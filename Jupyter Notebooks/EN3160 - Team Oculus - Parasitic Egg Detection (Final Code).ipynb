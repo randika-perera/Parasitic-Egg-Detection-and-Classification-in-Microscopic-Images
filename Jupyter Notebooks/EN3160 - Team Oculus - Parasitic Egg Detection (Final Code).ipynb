{
 "cells": [
  {
   "cell_type": "markdown",
   "id": "3c73c06c",
   "metadata": {
    "papermill": {
     "duration": 0.005831,
     "end_time": "2023-10-28T05:07:08.794870",
     "exception": false,
     "start_time": "2023-10-28T05:07:08.789039",
     "status": "completed"
    },
    "tags": []
   },
   "source": [
    "# EN3160: Image Processing and Machine Vision"
   ]
  },
  {
   "cell_type": "markdown",
   "id": "80c7d7e1",
   "metadata": {
    "papermill": {
     "duration": 0.004648,
     "end_time": "2023-10-28T05:07:08.804629",
     "exception": false,
     "start_time": "2023-10-28T05:07:08.799981",
     "status": "completed"
    },
    "tags": []
   },
   "source": [
    "## Project on Deep Learning for Vision"
   ]
  },
  {
   "cell_type": "markdown",
   "id": "1390ed61",
   "metadata": {
    "papermill": {
     "duration": 0.004937,
     "end_time": "2023-10-28T05:07:08.814392",
     "exception": false,
     "start_time": "2023-10-28T05:07:08.809455",
     "status": "completed"
    },
    "tags": []
   },
   "source": [
    "### Selected Project: ICIP 2022 Challenge Parasitic Egg Detection and Classification in Microscopic Images"
   ]
  },
  {
   "cell_type": "markdown",
   "id": "5f638a5f",
   "metadata": {
    "papermill": {
     "duration": 0.004811,
     "end_time": "2023-10-28T05:07:08.824041",
     "exception": false,
     "start_time": "2023-10-28T05:07:08.819230",
     "status": "completed"
    },
    "tags": []
   },
   "source": [
    "> **Team Oculus**"
   ]
  },
  {
   "cell_type": "markdown",
   "id": "56ce52a5",
   "metadata": {
    "papermill": {
     "duration": 0.005076,
     "end_time": "2023-10-28T05:07:08.833953",
     "exception": false,
     "start_time": "2023-10-28T05:07:08.828877",
     "status": "completed"
    },
    "tags": []
   },
   "source": [
    "> 200462U: N.W.P.R.A. Perera"
   ]
  },
  {
   "cell_type": "markdown",
   "id": "8aaa867c",
   "metadata": {
    "papermill": {
     "duration": 0.004629,
     "end_time": "2023-10-28T05:07:08.843439",
     "exception": false,
     "start_time": "2023-10-28T05:07:08.838810",
     "status": "completed"
    },
    "tags": []
   },
   "source": [
    "> 200558U: A.M.P.S. Samarasekera"
   ]
  },
  {
   "cell_type": "markdown",
   "id": "99500f43",
   "metadata": {
    "papermill": {
     "duration": 0.004944,
     "end_time": "2023-10-28T05:07:08.853193",
     "exception": false,
     "start_time": "2023-10-28T05:07:08.848249",
     "status": "completed"
    },
    "tags": []
   },
   "source": [
    "Our solution to this challenge is mainly based upon Ultralytics YOLOv8 model.\n",
    "\n",
    "Ultralytics YOLOv8 is a cutting-edge, state-of-the-art model that builds upon the success of previous YOLO versions and introduces new features and improvements to further boost performance and flexibility. YOLOv8 is designed to be fast, accurate, and easy to use, making it an excellent choice for a wide range of object detection and tracking, instance segmentation, image classification and pose estimation tasks.\n",
    "\n",
    "Reference: https://docs.ultralytics.com/"
   ]
  },
  {
   "cell_type": "markdown",
   "id": "6c2805c1",
   "metadata": {
    "papermill": {
     "duration": 0.004649,
     "end_time": "2023-10-28T05:07:08.862727",
     "exception": false,
     "start_time": "2023-10-28T05:07:08.858078",
     "status": "completed"
    },
    "tags": []
   },
   "source": [
    "**Installing Ultralytics**"
   ]
  },
  {
   "cell_type": "code",
   "execution_count": null,
   "id": "704613ce",
   "metadata": {
    "execution": {
     "iopub.execute_input": "2023-10-28T05:07:08.874872Z",
     "iopub.status.busy": "2023-10-28T05:07:08.874139Z",
     "iopub.status.idle": "2023-10-28T05:07:22.327674Z",
     "shell.execute_reply": "2023-10-28T05:07:22.326569Z"
    },
    "papermill": {
     "duration": 13.462527,
     "end_time": "2023-10-28T05:07:22.330026",
     "exception": false,
     "start_time": "2023-10-28T05:07:08.867499",
     "status": "completed"
    },
    "tags": []
   },
   "outputs": [],
   "source": [
    "! pip install ultralytics"
   ]
  },
  {
   "cell_type": "markdown",
   "id": "1ceba9fb",
   "metadata": {
    "papermill": {
     "duration": 0.005894,
     "end_time": "2023-10-28T05:07:22.342252",
     "exception": false,
     "start_time": "2023-10-28T05:07:22.336358",
     "status": "completed"
    },
    "tags": []
   },
   "source": [
    "**Setting up the WANDB library** "
   ]
  },
  {
   "cell_type": "code",
   "execution_count": null,
   "id": "c1df2504",
   "metadata": {
    "execution": {
     "iopub.execute_input": "2023-10-28T05:07:22.356082Z",
     "iopub.status.busy": "2023-10-28T05:07:22.355608Z",
     "iopub.status.idle": "2023-10-28T05:07:38.262556Z",
     "shell.execute_reply": "2023-10-28T05:07:38.261285Z"
    },
    "papermill": {
     "duration": 15.917055,
     "end_time": "2023-10-28T05:07:38.265260",
     "exception": false,
     "start_time": "2023-10-28T05:07:22.348205",
     "status": "completed"
    },
    "tags": []
   },
   "outputs": [],
   "source": [
    "! pip install wandb\n",
    "\n",
    "# Logging into the WANDB library with my API key\n",
    "! wandb login f10c532bfd2239b23439cbb8c1bd31fe647f8c7e   "
   ]
  },
  {
   "cell_type": "markdown",
   "id": "0bd36d1e",
   "metadata": {
    "papermill": {
     "duration": 0.006708,
     "end_time": "2023-10-28T05:07:38.279401",
     "exception": false,
     "start_time": "2023-10-28T05:07:38.272693",
     "status": "completed"
    },
    "tags": []
   },
   "source": [
    "**Importing Other Dependancies**"
   ]
  },
  {
   "cell_type": "code",
   "execution_count": null,
   "id": "27086311",
   "metadata": {
    "execution": {
     "iopub.execute_input": "2023-10-28T05:07:38.294965Z",
     "iopub.status.busy": "2023-10-28T05:07:38.294562Z",
     "iopub.status.idle": "2023-10-28T05:07:44.173167Z",
     "shell.execute_reply": "2023-10-28T05:07:44.172311Z"
    },
    "papermill": {
     "duration": 5.889617,
     "end_time": "2023-10-28T05:07:44.175967",
     "exception": false,
     "start_time": "2023-10-28T05:07:38.286350",
     "status": "completed"
    },
    "tags": []
   },
   "outputs": [],
   "source": [
    "import os \n",
    "import shutil\n",
    "import json\n",
    "import pandas as pd\n",
    "from sklearn.model_selection import train_test_split\n",
    "from IPython.display import FileLink\n",
    "from ultralytics import YOLO"
   ]
  },
  {
   "cell_type": "markdown",
   "id": "41fc2605",
   "metadata": {
    "papermill": {
     "duration": 0.006617,
     "end_time": "2023-10-28T05:07:44.189665",
     "exception": false,
     "start_time": "2023-10-28T05:07:44.183048",
     "status": "completed"
    },
    "tags": []
   },
   "source": [
    "**Data Pre-Processing (Preparing the Chula Parasite Dataset for Training and Validation)**"
   ]
  },
  {
   "cell_type": "code",
   "execution_count": null,
   "id": "cc1d3f8d",
   "metadata": {
    "execution": {
     "iopub.execute_input": "2023-10-28T05:07:44.204658Z",
     "iopub.status.busy": "2023-10-28T05:07:44.204166Z",
     "iopub.status.idle": "2023-10-28T05:13:30.197786Z",
     "shell.execute_reply": "2023-10-28T05:13:30.196928Z"
    },
    "papermill": {
     "duration": 346.003722,
     "end_time": "2023-10-28T05:13:30.200128",
     "exception": false,
     "start_time": "2023-10-28T05:07:44.196406",
     "status": "completed"
    },
    "tags": []
   },
   "outputs": [],
   "source": [
    "#-------------------------------------------------------------------------------------------------------------#\n",
    "\n",
    "### Loading the dataset labels from a JSON file.\n",
    "\n",
    "file = open('/kaggle/input/chula-parasite-dataset/Chula-ParasiteEgg-11/Chula-ParasiteEgg-11/Chula-ParasiteEgg-11/labels.json')\n",
    "data = json.load(file)\n",
    "print()\n",
    "print('SUCCESSFULLY LOADED THE DATASET LABELS!')\n",
    "print()\n",
    "\n",
    "#-------------------------------------------------------------------------------------------------------------#\n",
    "\n",
    "### Converting the JSON file into a pandas DataFrame.\n",
    "\n",
    "# Convert parts of the JSON file into 2 pandas DataFrames for easier manipulation\n",
    "image_dataframe = pd.DataFrame.from_dict(pd.json_normalize(data['images']), orient='columns')\n",
    "print()\n",
    "print('Image DataFrame')\n",
    "display(image_dataframe)\n",
    "annotations_dataframe = pd.DataFrame.from_dict(pd.json_normalize(data['annotations']), orient='columns')\n",
    "print()\n",
    "print('Annotations DataFrame')\n",
    "display(annotations_dataframe)\n",
    "duplicate_values = annotations_dataframe['image_id'].duplicated()\n",
    "print()\n",
    "print('Duplicate Values in Annotations DataFrame')\n",
    "display(duplicate_values)\n",
    "\n",
    "# Merges the 2 DataFrames based on the 'id' column of image_dataframe and 'image_id' column of annotations_dataframe\n",
    "merged_dataframe = pd.merge(image_dataframe, annotations_dataframe, left_on='id', right_on='image_id', how='inner')\n",
    "# Drop the extra 'image_id' column as it's now redundant\n",
    "merged_dataframe.drop(columns=['image_id'], inplace=True)  \n",
    "print()\n",
    "print('Merged DataFrame')\n",
    "display(merged_dataframe)\n",
    "\n",
    "#-------------------------------------------------------------------------------------------------------------#\n",
    "\n",
    "### Calculating the YOLO bounding box values for each image.\n",
    "\n",
    "\"\"\"\n",
    "In COCO, a bounding box is defined by four values in pixels [x_min, y_min, width, height].\n",
    "\n",
    "These are coordinates of the top-left corner along with the width and height of the bounding box.\n",
    "\n",
    "\n",
    "In YOLO, a bounding box is represented by four values [x_center, y_center, width, height].\n",
    "\n",
    "x_center and y_center are the normalized coordinates of the center of the bounding box. \n",
    "To make coordinates normalized, we take pixel values of x and y, which marks the center \n",
    "of the bounding box on the x-axis and y-axis. \n",
    "Then we divide the value of x by the width of the image and value of y by the height of the image. \n",
    "\n",
    "width and height represent the width and the height of the bounding box. \n",
    "They are normalized as well.\n",
    "\"\"\"\n",
    "\n",
    "# Computes YOLO-style bounding box coordinates and dimensions based on original bounding box data and merges them into a new column\n",
    "merged_dataframe['bbox_yolo'] = merged_dataframe.apply(lambda row: [\n",
    "    ((row['bbox'][0] + row['bbox'][2] / 2) / row['width']),\n",
    "    ((row['bbox'][1] + row['bbox'][3] / 2) / row['height']),\n",
    "    (row['bbox'][2] / row['width']),\n",
    "    (row['bbox'][3] / row['height'])\n",
    "], axis=1)\n",
    "\n",
    "# Display the new DataFrame with the bbox_yolo field\n",
    "print()\n",
    "print('New DataFrame with bbox_yolo field')\n",
    "display(merged_dataframe)     \n",
    "print('SUCCESSFULLY CONVERTED THE JSON FILE INTO A PANDAS DATAFRAME WITH YOLO BOUNDING BOX VALUES!')\n",
    "print()\n",
    "\n",
    "#-------------------------------------------------------------------------------------------------------------#\n",
    "\n",
    "### Splitting the merged DataFrame into training and validation sets.\n",
    "\n",
    "# Splits the merged DataFrame into training and validation sets using a 80-20 split\n",
    "training_dataframe, validation_dataframe = train_test_split(merged_dataframe, test_size=0.2, random_state=42)\n",
    "print()\n",
    "print('Training DataFrame')\n",
    "display(training_dataframe)\n",
    "print()\n",
    "print('Validation DataFrame')\n",
    "display(validation_dataframe)\n",
    "print('SUCCESSFULLY SPLIT THE MERGED DATAFRAME INTO TRAINING AND VALIDATION SETS!')\n",
    "print()\n",
    "\n",
    "#-------------------------------------------------------------------------------------------------------------#\n",
    "\n",
    "### Copying the training and validation images to their respective directories.\n",
    "\n",
    "# Specify the source and destination paths\n",
    "source_path = r\"/kaggle/input/chula-parasite-dataset/Chula-ParasiteEgg-11/Chula-ParasiteEgg-11/Chula-ParasiteEgg-11/data\"\n",
    "training_set_destination_path   = r\"/kaggle/working/Chula-ParasiteEgg-11/images/training_set\"\n",
    "validation_set_destination_path = r\"/kaggle/working/Chula-ParasiteEgg-11/images/validation_set\"\n",
    "\n",
    "# Create destination directories if they don't exist\n",
    "os.makedirs(training_set_destination_path,   exist_ok=True)\n",
    "os.makedirs(validation_set_destination_path, exist_ok=True)\n",
    "\n",
    "# Copy files for the training set\n",
    "for index, row in training_dataframe.iterrows():\n",
    "    filename = row['file_name']\n",
    "    src_file = os.path.join(source_path, filename)\n",
    "    dst_file = os.path.join(training_set_destination_path, filename)\n",
    "    if os.path.exists(src_file):\n",
    "        shutil.copy(src_file, dst_file)\n",
    "    else:\n",
    "        print(f\"Source file {src_file} does not exist.\")\n",
    "\n",
    "# Copy files for the validation set\n",
    "for index, row in validation_dataframe.iterrows():\n",
    "    filename = row['file_name']\n",
    "    src_file = os.path.join(source_path, filename)\n",
    "    dst_file = os.path.join(validation_set_destination_path, filename)\n",
    "    shutil.copy(src_file, dst_file)\n",
    "\n",
    "print('SUCCESSFULLY COPIED THE TRAINING SET AND VALIDATION SET IMAGES TO KAGGLE WORKING DIRECTORY!')\n",
    "print()\n",
    "\n",
    "#-------------------------------------------------------------------------------------------------------------#\n",
    "\n",
    "### Creating text files for the training and validation labels.\n",
    "### These text files will be used by the yolov8n model for training and validation.\n",
    "\n",
    "# Define the output directories\n",
    "training_set_labels_dir   = '/kaggle/working/Chula-ParasiteEgg-11/labels/training_set'\n",
    "validation_set_labels_dir = '/kaggle/working/Chula-ParasiteEgg-11/labels/validation_set'\n",
    "\n",
    "# Create output directories if they don't exist\n",
    "os.makedirs(training_set_labels_dir,   exist_ok=True)\n",
    "os.makedirs(validation_set_labels_dir, exist_ok=True)\n",
    "\n",
    "# Creating text files for training_dataframe\n",
    "for index, row in training_dataframe.iterrows():\n",
    "    category_id = row['category_id']\n",
    "    bbox = row['bbox_yolo']\n",
    "    filename = os.path.splitext(row['file_name'])[0]    # Remove the '.jpg' extension\n",
    "    text_content = f\"{category_id} {' '.join(map(str, bbox))}\"   # Create the text content\n",
    "    output_filename = os.path.join(training_set_labels_dir, f\"{filename}.txt\")   \n",
    "    with open(output_filename, 'w') as text_file:\n",
    "        text_file.write(text_content)   # Write the text content to a file in the training output directory\n",
    "\n",
    "# Creating text files for validation_dataframe\n",
    "for index, row in validation_dataframe.iterrows():\n",
    "    category_id = row['category_id']\n",
    "    bbox = row['bbox_yolo']\n",
    "    filename = os.path.splitext(row['file_name'])[0]   # Remove the '.jpg' extension\n",
    "    text_content = f\"{category_id} {' '.join(map(str, bbox))}\"   # Create the text content\n",
    "    output_filename = os.path.join(validation_set_labels_dir, f\"{filename}.txt\")\n",
    "    with open(output_filename, 'w') as text_file:\n",
    "        text_file.write(text_content)   # Write the text content to a file in the validation output directory\n",
    "\n",
    "#-------------------------------------------------------------------------------------------------------------#"
   ]
  },
  {
   "cell_type": "markdown",
   "id": "a9243324",
   "metadata": {
    "papermill": {
     "duration": 0.009481,
     "end_time": "2023-10-28T05:13:30.219513",
     "exception": false,
     "start_time": "2023-10-28T05:13:30.210032",
     "status": "completed"
    },
    "tags": []
   },
   "source": [
    "**Training the Model**"
   ]
  },
  {
   "cell_type": "code",
   "execution_count": null,
   "id": "5aa8bfc9",
   "metadata": {
    "execution": {
     "iopub.execute_input": "2023-10-28T05:13:30.240194Z",
     "iopub.status.busy": "2023-10-28T05:13:30.239844Z",
     "iopub.status.idle": "2023-10-28T08:18:22.974798Z",
     "shell.execute_reply": "2023-10-28T08:18:22.973483Z"
    },
    "papermill": {
     "duration": 11095.582103,
     "end_time": "2023-10-28T08:18:25.811156",
     "exception": false,
     "start_time": "2023-10-28T05:13:30.229053",
     "status": "completed"
    },
    "tags": []
   },
   "outputs": [],
   "source": [
    "# Load and initializes the yolov8n model using the configuration file 'yolov8n.yaml'\n",
    "# yolov8n model is used for object detection\n",
    "# This configuration file specifies the architecture, hyperparameters, and other settings of the YOLO model\n",
    "model = YOLO('yolov8n.yaml').load('yolov8n.pt')  \n",
    "\n",
    "# Specify the number of epochs for training\n",
    "n_epochs = 30\n",
    "\n",
    "# Training the model\n",
    "results  = model.train(data=\"/kaggle/input/parasite-configuration/parasite_configure.yaml\", epochs=n_epochs)\n",
    "print('SUCCESSFULLY TRAINED THE MODEL!')"
   ]
  },
  {
   "cell_type": "markdown",
   "id": "934d828e",
   "metadata": {
    "papermill": {
     "duration": 2.808285,
     "end_time": "2023-10-28T08:18:31.437237",
     "exception": false,
     "start_time": "2023-10-28T08:18:28.628952",
     "status": "completed"
    },
    "tags": []
   },
   "source": [
    "**Evaluating the Model**"
   ]
  },
  {
   "cell_type": "code",
   "execution_count": null,
   "id": "5e7c6c52",
   "metadata": {
    "execution": {
     "iopub.execute_input": "2023-10-28T08:18:37.110594Z",
     "iopub.status.busy": "2023-10-28T08:18:37.110014Z",
     "iopub.status.idle": "2023-10-28T08:19:48.966489Z",
     "shell.execute_reply": "2023-10-28T08:19:48.965416Z"
    },
    "papermill": {
     "duration": 75.701889,
     "end_time": "2023-10-28T08:19:49.974727",
     "exception": false,
     "start_time": "2023-10-28T08:18:34.272838",
     "status": "completed"
    },
    "tags": []
   },
   "outputs": [],
   "source": [
    "# Evaluate the model's performance on the validation set\n",
    "metrics = model.val()\n",
    "print('SUCCESSFULLY EVALUATED THE MODEL ON THE VALIDATION SET!')"
   ]
  },
  {
   "cell_type": "markdown",
   "id": "51e41b31",
   "metadata": {
    "papermill": {
     "duration": 2.90789,
     "end_time": "2023-10-28T08:19:55.706901",
     "exception": false,
     "start_time": "2023-10-28T08:19:52.799011",
     "status": "completed"
    },
    "tags": []
   },
   "source": [
    "**Packaging the results as ZIP archives for ease of downloading**"
   ]
  },
  {
   "cell_type": "code",
   "execution_count": null,
   "id": "c0c358ad",
   "metadata": {
    "execution": {
     "iopub.execute_input": "2023-10-28T08:20:01.416808Z",
     "iopub.status.busy": "2023-10-28T08:20:01.416411Z",
     "iopub.status.idle": "2023-10-28T08:20:01.916515Z",
     "shell.execute_reply": "2023-10-28T08:20:01.915505Z"
    },
    "papermill": {
     "duration": 3.389174,
     "end_time": "2023-10-28T08:20:01.918518",
     "exception": false,
     "start_time": "2023-10-28T08:19:58.529344",
     "status": "completed"
    },
    "tags": []
   },
   "outputs": [],
   "source": [
    "source_directory = '/kaggle/working/wandb'\n",
    "zip_file_path    = '/kaggle/working/wandb.zip'\n",
    "shutil.make_archive(zip_file_path.split(\".\")[0], 'zip', source_directory)"
   ]
  },
  {
   "cell_type": "code",
   "execution_count": null,
   "id": "ce817fbf",
   "metadata": {
    "execution": {
     "iopub.execute_input": "2023-10-28T08:20:07.628764Z",
     "iopub.status.busy": "2023-10-28T08:20:07.628387Z",
     "iopub.status.idle": "2023-10-28T08:20:08.698539Z",
     "shell.execute_reply": "2023-10-28T08:20:08.697628Z"
    },
    "papermill": {
     "duration": 3.818644,
     "end_time": "2023-10-28T08:20:08.700543",
     "exception": false,
     "start_time": "2023-10-28T08:20:04.881899",
     "status": "completed"
    },
    "tags": []
   },
   "outputs": [],
   "source": [
    "source_directory = '/kaggle/working/runs'\n",
    "zip_file_path    = '/kaggle/working/runs.zip'\n",
    "shutil.make_archive(zip_file_path.split(\".\")[0], 'zip', source_directory)"
   ]
  },
  {
   "cell_type": "code",
   "execution_count": null,
   "id": "ad925cec",
   "metadata": {
    "execution": {
     "iopub.execute_input": "2023-10-28T08:20:14.375158Z",
     "iopub.status.busy": "2023-10-28T08:20:14.374774Z",
     "iopub.status.idle": "2023-10-28T08:20:14.379752Z",
     "shell.execute_reply": "2023-10-28T08:20:14.378844Z"
    },
    "papermill": {
     "duration": 2.850598,
     "end_time": "2023-10-28T08:20:14.382415",
     "exception": false,
     "start_time": "2023-10-28T08:20:11.531817",
     "status": "completed"
    },
    "tags": []
   },
   "outputs": [],
   "source": [
    "print('SUCCESSFULLY CREATED THE ZIP FILES!')"
   ]
  }
 ],
 "metadata": {
  "kernelspec": {
   "display_name": "Python 3",
   "language": "python",
   "name": "python3"
  },
  "language_info": {
   "codemirror_mode": {
    "name": "ipython",
    "version": 3
   },
   "file_extension": ".py",
   "mimetype": "text/x-python",
   "name": "python",
   "nbconvert_exporter": "python",
   "pygments_lexer": "ipython3",
   "version": "3.10.12"
  },
  "papermill": {
   "default_parameters": {},
   "duration": 11598.20946,
   "end_time": "2023-10-28T08:20:23.608519",
   "environment_variables": {},
   "exception": null,
   "input_path": "__notebook__.ipynb",
   "output_path": "__notebook__.ipynb",
   "parameters": {},
   "start_time": "2023-10-28T05:07:05.399059",
   "version": "2.4.0"
  }
 },
 "nbformat": 4,
 "nbformat_minor": 5
}
